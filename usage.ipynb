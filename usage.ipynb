{
 "cells": [
  {
   "cell_type": "code",
   "execution_count": 1,
   "metadata": {},
   "outputs": [],
   "source": [
    "from utils import *\n",
    "import numpy as np\n",
    "import matplotlib.pyplot as plt"
   ]
  },
  {
   "cell_type": "code",
   "execution_count": 2,
   "metadata": {},
   "outputs": [],
   "source": [
    "ctrl_pt = np.linspace(-2, 2, 4)\n",
    "x, y = np.meshgrid(ctrl_pt, ctrl_pt)\n",
    "ctrl_xy = np.stack([x, y], axis=2).reshape(-1, 2)\n",
    "y[:, [0, 3]] *=2\n",
    "target_xy = np.stack([x, y], axis=2).reshape(-1, 2)"
   ]
  },
  {
   "cell_type": "code",
   "execution_count": 3,
   "metadata": {},
   "outputs": [],
   "source": [
    "\n",
    "coef = get_tpscoef(ctrl_xy,target_xy)\n",
    "input_pt = np.linspace(-1.8, 1.8, 40)\n",
    "input_pt = input_pt.reshape(-1,2)\n",
    "output_pt = tps_trans(input_pt,ctrl_xy,coef)"
   ]
  },
  {
   "cell_type": "code",
   "execution_count": 4,
   "metadata": {},
   "outputs": [
    {
     "data": {
      "image/png": "[encoded data removed]",
      "text/plain": [
       "<Figure size 720x360 with 2 Axes>"
      ]
     },
     "metadata": {
      "needs_background": "light"
     },
     "output_type": "display_data"
    }
   ],
   "source": [
    "plt.figure(figsize=(10,5))\n",
    "plt.subplot(1,2,1)\n",
    "plt.scatter(ctrl_xy[:,0],ctrl_xy[:,1],c=\"b\")\n",
    "plt.scatter(input_pt[:,0],input_pt[:,1],c=\"r\")\n",
    "plt.subplot(1,2,2)\n",
    "plt.scatter(target_xy[:,0],target_xy[:,1],c=\"b\")\n",
    "plt.scatter(output_pt[:,0],output_pt[:,1],c=\"r\")\n",
    "plt.show()"
   ]
  }
 ],
 "metadata": {
  "interpreter": {
   "hash": "a336408ed5cf483d0b6697114c3c65340b20f5cdc6d74b72c0de63404a47289a"
  },
  "kernelspec": {
   "display_name": "Python 3.9.7 ('rl')",
   "language": "python",
   "name": "python3"
  },
  "language_info": {
   "codemirror_mode": {
    "name": "ipython",
    "version": 3
   },
   "file_extension": ".py",
   "mimetype": "text/x-python",
   "name": "python",
   "nbconvert_exporter": "python",
   "pygments_lexer": "ipython3",
   "version": "3.9.7"
  },
  "orig_nbformat": 4
 },
 "nbformat": 4,
 "nbformat_minor": 2
}
